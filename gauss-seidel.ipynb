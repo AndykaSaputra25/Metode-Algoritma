{
 "cells": [
  {
   "cell_type": "code",
   "execution_count": 1,
   "metadata": {},
   "outputs": [
    {
     "name": "stdout",
     "output_type": "stream",
     "text": [
      "i | x1      | x2      | X3      | E1      | E2      | E3      | Emax    \n",
      "0 |       0 |       0 |       0 | -       | -       | -       | -       \n",
      "1 |    -0.2 |  0.1556 | -0.5079 | 100.00  | 100.00  | 100.00  | 100.00  \n",
      "2 |   0.167 |  0.3343 | -0.4286 | 219.76  | 53.45   | -18.50  | 53.45   \n",
      "3 |  0.1909 |  0.3335 | -0.4217 | 12.52   | -0.24   | -1.64   | 12.52   \n"
     ]
    }
   ],
   "source": [
    "def x1(x2,x3):\n",
    "    return (-1 + (2 * x2) - (3 * x3)) / 5\n",
    "def x2(x1,x3):\n",
    "    return (2 + (3 * x1) - x3) / 9\n",
    "def x3(x1,x2):\n",
    "    return (3 - (2 * x1) + x2) / -7\n",
    "def error(n,o):\n",
    "    return ((n-o)/n) * 100\n",
    "\n",
    "xx1 = 0\n",
    "xx2 = 0\n",
    "xx3 = 0\n",
    "i = 0\n",
    "fmt = \"{0:1} | {1:7} | {2:7} | {3:7} | {4:7} | {5:7} | {6:7} | {7:8}\"\n",
    "print(fmt.format(\"i\", \"x1\", \"x2\", \"X3\", \"E1\", \"E2\", \"E3\", \"Emax\"))\n",
    "while (True): # Adjust No.of iterations here.\n",
    "    if i == 0:\n",
    "        print(fmt.format(i, xx1, xx2, xx3, \"-\", \"-\", \"-\", \"-\" ))\n",
    "        one = xx1\n",
    "        two = xx2\n",
    "        three = xx3\n",
    "        i += 1\n",
    "    else:\n",
    "        one = eval(\"{0:.4f}\".format(x1(xx2,xx3)))\n",
    "        two = eval(\"{0:.4f}\".format(x2(one,xx3)))\n",
    "        three =  eval(\"{0:.4f}\".format(x3(one,two)))\n",
    "        error1 = \"{0:.2f}\".format(error(one, xx1))\n",
    "        error2 = \"{0:.2f}\".format(error(two, xx2))\n",
    "        error3 = \"{0:.2f}\".format(error(three, xx3))\n",
    "        maksimal = [error1, error2, error3]\n",
    "        maks = max(maksimal)\n",
    "        if float(maks) < 0.5:\n",
    "            break\n",
    "        print(fmt.format(i, one, two,three , error1, error2, error3, maks))\n",
    "        i += 1\n",
    "    xx1 = one\n",
    "    xx2 = two\n",
    "    xx3 = three\n"
   ]
  }
 ],
 "metadata": {
  "kernelspec": {
   "display_name": "Python 3",
   "language": "python",
   "name": "python3"
  },
  "language_info": {
   "codemirror_mode": {
    "name": "ipython",
    "version": 3
   },
   "file_extension": ".py",
   "mimetype": "text/x-python",
   "name": "python",
   "nbconvert_exporter": "python",
   "pygments_lexer": "ipython3",
   "version": "3.8.5"
  }
 },
 "nbformat": 4,
 "nbformat_minor": 4
}

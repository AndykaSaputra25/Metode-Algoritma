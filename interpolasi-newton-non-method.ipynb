{
 "cells": [
  {
   "cell_type": "code",
   "execution_count": 1,
   "metadata": {},
   "outputs": [
    {
     "data": {
      "image/png": "[encoded data removed]",
      "text/plain": [
       "<Figure size 432x288 with 1 Axes>"
      ]
     },
     "metadata": {
      "needs_background": "light"
     },
     "output_type": "display_data"
    }
   ],
   "source": [
    "import matplotlib.pyplot as plt\n",
    "\n",
    "x = [1., 2., 3., 4., 5., 6.]\n",
    "fx = [14.5, 19.5, 30.5, 53.5, 94.5, 159.5]\n",
    "\n",
    "plt.plot(x, fx, '-go')\n",
    "plt.show()"
   ]
  },
  {
   "cell_type": "code",
   "execution_count": 2,
   "metadata": {},
   "outputs": [
    {
     "name": "stdout",
     "output_type": "stream",
     "text": [
      "[[ 14.5   5.    3.    1.    0.    0. ]\n",
      " [ 19.5  11.    6.    1.    0.    0. ]\n",
      " [ 30.5  23.    9.    1.    0.    0. ]\n",
      " [ 53.5  41.   12.    0.    0.    0. ]\n",
      " [ 94.5  65.    0.    0.    0.    0. ]\n",
      " [159.5   0.    0.    0.    0.    0. ]]\n"
     ]
    }
   ],
   "source": [
    "import numpy as np\n",
    "\n",
    "n=len(x)\n",
    "ST=np.zeros((n, n))\n",
    "ST[:,0]=fx\n",
    "\n",
    "for k in range(1, n):\n",
    "    for i in range(n-k):\n",
    "        #6-1 = 5\n",
    "        #6-2 = 4\n",
    "        ST[i][k] = (ST[i+1][k-1] - ST[i][k-1]) / (x[i+k]-x[i])\n",
    "print(ST)"
   ]
  },
  {
   "cell_type": "code",
   "execution_count": 3,
   "metadata": {},
   "outputs": [
    {
     "name": "stdout",
     "output_type": "stream",
     "text": [
      "i | Xn       | FXn      | ST-1     | ST-2     | ST-3     | ST-4     | ST-5    \n",
      "0 |      1.0 |     14.5 |      5.0 |      3.0 |      1.0 |      0.0 |      0.0\n",
      "1 |      2.0 |     19.5 |     11.0 |      6.0 |      1.0 |      0.0 |      0.0\n",
      "2 |      3.0 |     30.5 |     23.0 |      9.0 |      1.0 |      0.0 |      0.0\n",
      "3 |      4.0 |     53.5 |     41.0 |     12.0 |      0.0 |      0.0 |      0.0\n",
      "4 |      5.0 |     94.5 |     65.0 |      0.0 |      0.0 |      0.0 |      0.0\n",
      "5 |      6.0 |    159.5 |      0.0 |      0.0 |      0.0 |      0.0 |      0.0\n"
     ]
    }
   ],
   "source": [
    "fmt = \"{0:1} | {1:8} | {2:8} | {3:8} | {4:8} | {5:8} | {6:8} | {7:8}\"\n",
    "print(fmt.format(\"i\", \"Xn\", \"FXn\", \"ST-1\", \"ST-2\", \"ST-3\", \"ST-4\", \"ST-5\"))\n",
    "for i in range(n):\n",
    "    print(fmt.format(i, x[i], fx[i], ST[i,1], ST[i,2], ST[i,3], ST[i,4], ST[i,5]))"
   ]
  },
  {
   "cell_type": "code",
   "execution_count": 4,
   "metadata": {},
   "outputs": [
    {
     "name": "stdout",
     "output_type": "stream",
     "text": [
      "b0 =  14.5\n",
      "b1 =  5.0\n",
      "b2 =  3.0\n",
      "b3 =  1.0\n",
      "b4 =  0.0\n",
      "b5 =  0.0\n",
      "Interpolasi Newton dengan f(5) = 94.5\n"
     ]
    }
   ],
   "source": [
    "xinput = 5\n",
    "count = ST[0,0]\n",
    "print(\"b0 = \", fx[0])\n",
    "for i in range(1,n):\n",
    "    print(\"b{} = \".format(i), ST[0,i])\n",
    "    a=ST[0,i]\n",
    "    for k in range(i):\n",
    "        a*=xinput-x[k]\n",
    "        \n",
    "    count+=a\n",
    "print(\"Interpolasi Newton dengan f({}) =\".format(xinput), count)"
   ]
  }
 ],
 "metadata": {
  "kernelspec": {
   "display_name": "Python 3",
   "language": "python",
   "name": "python3"
  },
  "language_info": {
   "codemirror_mode": {
    "name": "ipython",
    "version": 3
   },
   "file_extension": ".py",
   "mimetype": "text/x-python",
   "name": "python",
   "nbconvert_exporter": "python",
   "pygments_lexer": "ipython3",
   "version": "3.8.5"
  }
 },
 "nbformat": 4,
 "nbformat_minor": 4
}

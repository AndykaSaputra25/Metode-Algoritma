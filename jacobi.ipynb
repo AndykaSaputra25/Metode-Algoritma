{
 "cells": [
  {
   "cell_type": "code",
   "execution_count": 1,
   "metadata": {},
   "outputs": [
    {
     "name": "stdout",
     "output_type": "stream",
     "text": [
      "i | x1       | x2       | X3       | E1       | E2       | E3       | Emax    \n",
      "0 |        0 |        0 |        0 | -        | -        | -        | -       \n",
      "1 |     -0.2 |   0.2222 |  -0.4286 | 100.00   | 100.00   | 100.00   | 100.00  \n",
      "2 |    0.146 |   0.2032 |  -0.5175 | 236.99   | -9.35    | 17.18    | 236.99  \n",
      "3 |   0.1918 |   0.3284 |  -0.4159 | 23.88    | 38.12    | -24.43   | 38.12   \n",
      "4 |   0.1809 |   0.3324 |  -0.4207 | -6.03    | 1.20     | 1.14     | 1.20    \n",
      "5 |   0.1854 |   0.3293 |  -0.4244 | 2.43     | -0.94    | 0.87     | 2.43    \n",
      "6 |   0.1864 |   0.3312 |  -0.4226 | 0.54     | 0.57     | -0.43    | 0.57    \n"
     ]
    }
   ],
   "source": [
    "def x1(x2,x3):\n",
    "    return (-1 + (2 * x2) - (3 * x3)) / 5\n",
    "def x2(x1,x3):\n",
    "    return (2 + (3 * x1) - x3) / 9\n",
    "def x3(x1,x2):\n",
    "    return (3 - (2 * x1) + x2) / -7\n",
    "def error(n,o):\n",
    "    return ((n-o)/n) * 100\n",
    "\n",
    "xx1 = 0\n",
    "xx2 = 0\n",
    "xx3 = 0\n",
    "i = 0\n",
    "fmt = \"{0:1} | {1:8} | {2:8} | {3:8} | {4:8} | {5:8} | {6:8} | {7:8}\"\n",
    "print(fmt.format(\"i\", \"x1\", \"x2\", \"X3\", \"E1\", \"E2\", \"E3\", \"Emax\"))\n",
    "while (True):\n",
    "    if i == 0:\n",
    "        print(fmt.format(i, xx1, xx2, xx3, \"-\", \"-\", \"-\", \"-\" ))\n",
    "        one = xx1\n",
    "        two = xx2\n",
    "        three = xx3\n",
    "        i += 1\n",
    "    else:\n",
    "        one = eval(\"{0:.4f}\".format(x1(xx2,xx3)))\n",
    "        two = eval(\"{0:.4f}\".format(x2(xx1,xx3)))\n",
    "        three =  eval(\"{0:.4f}\".format(x3(xx1,xx2)))\n",
    "        error1 = \"{0:.2f}\".format(error(one, xx1))\n",
    "        error2 = \"{0:.2f}\".format(error(two, xx2))\n",
    "        error3 = \"{0:.2f}\".format(error(three, xx3))\n",
    "        maksimal = [error1, error2, error3]\n",
    "        maks = max(maksimal)\n",
    "        if float(maks) < 0.5:\n",
    "            break\n",
    "        print(fmt.format(i, one, two, three, error1, error2, error3, maks))\n",
    "        i += 1\n",
    "        \n",
    "    xx1 = one\n",
    "    xx2 = two\n",
    "    xx3 = three"
   ]
  }
 ],
 "metadata": {
  "kernelspec": {
   "display_name": "Python 3",
   "language": "python",
   "name": "python3"
  },
  "language_info": {
   "codemirror_mode": {
    "name": "ipython",
    "version": 3
   },
   "file_extension": ".py",
   "mimetype": "text/x-python",
   "name": "python",
   "nbconvert_exporter": "python",
   "pygments_lexer": "ipython3",
   "version": "3.8.5"
  }
 },
 "nbformat": 4,
 "nbformat_minor": 4
}
